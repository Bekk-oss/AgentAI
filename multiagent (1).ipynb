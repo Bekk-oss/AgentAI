{
  "nbformat": 4,
  "nbformat_minor": 0,
  "metadata": {
    "colab": {
      "provenance": []
    },
    "kernelspec": {
      "name": "python3",
      "display_name": "Python 3"
    },
    "language_info": {
      "name": "python"
    }
  },
  "cells": [
    {
      "cell_type": "code",
      "execution_count": 7,
      "metadata": {
        "colab": {
          "base_uri": "https://localhost:8080/"
        },
        "id": "kH2-XIwjHbjx",
        "outputId": "96737a0e-7b07-4e5b-e9fc-0a06d60b3020"
      },
      "outputs": [
        {
          "output_type": "stream",
          "name": "stderr",
          "text": [
            "/usr/local/lib/python3.11/dist-packages/langchain_google_genai/chat_models.py:424: UserWarning: Convert_system_message_to_human will be deprecated!\n",
            "  warnings.warn(\"Convert_system_message_to_human will be deprecated!\")\n"
          ]
        },
        {
          "output_type": "stream",
          "name": "stdout",
          "text": [
            "\n",
            "🔧 Executing subtask: Define API specifications (endpoints, request/response formats, authentication methods)\n"
          ]
        },
        {
          "output_type": "stream",
          "name": "stderr",
          "text": [
            "/usr/local/lib/python3.11/dist-packages/langchain_google_genai/chat_models.py:424: UserWarning: Convert_system_message_to_human will be deprecated!\n",
            "  warnings.warn(\"Convert_system_message_to_human will be deprecated!\")\n"
          ]
        },
        {
          "output_type": "stream",
          "name": "stdout",
          "text": [
            "🧪 Running tests...\n",
            "\n",
            "🔧 Executing subtask: Choose a suitable framework/library (e.g., Spring Boot, Flask, Node.js with Express)\n"
          ]
        },
        {
          "output_type": "stream",
          "name": "stderr",
          "text": [
            "/usr/local/lib/python3.11/dist-packages/langchain_google_genai/chat_models.py:424: UserWarning: Convert_system_message_to_human will be deprecated!\n",
            "  warnings.warn(\"Convert_system_message_to_human will be deprecated!\")\n"
          ]
        },
        {
          "output_type": "stream",
          "name": "stdout",
          "text": [
            "🧪 Running tests...\n",
            "🔍 Reviewing failed tests...\n"
          ]
        },
        {
          "output_type": "stream",
          "name": "stderr",
          "text": [
            "/usr/local/lib/python3.11/dist-packages/langchain_google_genai/chat_models.py:424: UserWarning: Convert_system_message_to_human will be deprecated!\n",
            "  warnings.warn(\"Convert_system_message_to_human will be deprecated!\")\n"
          ]
        },
        {
          "output_type": "stream",
          "name": "stdout",
          "text": [
            "📝 Review feedback: The code is functional but has several areas for improvement.\n",
            "❌ Critical issues: ['The application uses an in-memory data store which is not suitable for production.  A persistent database (e.g., SQLite, PostgreSQL) should be used.', 'ID generation is simplistic and prone to issues if IDs are not strictly sequential.  A more robust ID generation strategy (e.g., UUIDs) is needed for production.', 'Error handling is basic. More detailed and informative error messages should be provided to the client.', 'The code lacks input validation beyond checking for the presence of required fields.  Input sanitization and validation should be more comprehensive to prevent security vulnerabilities (e.g., SQL injection if a database were used).', 'The timeout during testing suggests performance issues, likely due to the in-memory data store and lack of optimization for larger datasets.  Profiling and optimization are necessary.', 'The `debug=True` setting should be removed from production deployments.', 'The code would benefit from unit tests to ensure individual functions work correctly and integration tests to verify the interactions between different parts of the application.']\n",
            "\n",
            "🔧 Executing subtask: Set up development environment and project structure\n"
          ]
        },
        {
          "output_type": "stream",
          "name": "stderr",
          "text": [
            "/usr/local/lib/python3.11/dist-packages/langchain_google_genai/chat_models.py:424: UserWarning: Convert_system_message_to_human will be deprecated!\n",
            "  warnings.warn(\"Convert_system_message_to_human will be deprecated!\")\n"
          ]
        },
        {
          "output_type": "stream",
          "name": "stdout",
          "text": [
            "🧪 Running tests...\n",
            "🔍 Reviewing failed tests...\n"
          ]
        },
        {
          "output_type": "stream",
          "name": "stderr",
          "text": [
            "/usr/local/lib/python3.11/dist-packages/langchain_google_genai/chat_models.py:424: UserWarning: Convert_system_message_to_human will be deprecated!\n",
            "  warnings.warn(\"Convert_system_message_to_human will be deprecated!\")\n"
          ]
        },
        {
          "output_type": "stream",
          "name": "stdout",
          "text": [
            "📝 Review feedback: The code has a good structure and attempts to handle errors. However, it currently fails due to a runtime issue.\n",
            "❌ Critical issues: [\"The `venv` creation fails with a non-zero exit status (1).  The code catches and re-raises this error, but doesn't provide any information about *why* `venv` failed.  The error message should be improved to include the output and stderr from the `subprocess.run` call to help diagnose the problem.  Possible causes include insufficient permissions, a problem with the Python installation, or a missing `venv` module.\", 'The error handling for `subprocess.run` is redundant. The `except subprocess.CalledProcessError as e:` block simply re-raises the exception without adding any value.  Consider logging the error details or providing a more user-friendly message before re-raising.', 'The code assumes that `python3` is available. It might be more robust to use `sys.executable` to get the path to the currently running Python interpreter, ensuring compatibility across different environments.']\n",
            "\n",
            "🔧 Executing subtask: Design database schema for user data (including fields like username, password, email, roles, etc.)\n"
          ]
        },
        {
          "output_type": "stream",
          "name": "stderr",
          "text": [
            "/usr/local/lib/python3.11/dist-packages/langchain_google_genai/chat_models.py:424: UserWarning: Convert_system_message_to_human will be deprecated!\n",
            "  warnings.warn(\"Convert_system_message_to_human will be deprecated!\")\n"
          ]
        },
        {
          "output_type": "stream",
          "name": "stdout",
          "text": [
            "🧪 Running tests...\n",
            "\n",
            "🔧 Executing subtask: Implement database interactions (CRUD operations) using an ORM or database driver\n"
          ]
        },
        {
          "output_type": "stream",
          "name": "stderr",
          "text": [
            "/usr/local/lib/python3.11/dist-packages/langchain_google_genai/chat_models.py:424: UserWarning: Convert_system_message_to_human will be deprecated!\n",
            "  warnings.warn(\"Convert_system_message_to_human will be deprecated!\")\n"
          ]
        },
        {
          "output_type": "stream",
          "name": "stdout",
          "text": [
            "🧪 Running tests...\n",
            "🔍 Reviewing failed tests...\n"
          ]
        },
        {
          "output_type": "stream",
          "name": "stderr",
          "text": [
            "/usr/local/lib/python3.11/dist-packages/langchain_google_genai/chat_models.py:424: UserWarning: Convert_system_message_to_human will be deprecated!\n",
            "  warnings.warn(\"Convert_system_message_to_human will be deprecated!\")\n"
          ]
        },
        {
          "output_type": "stream",
          "name": "stdout",
          "text": [
            "📝 Review feedback: The code has a critical bug preventing the database table from being created.\n",
            "❌ Critical issues: [\"The `_create_table` method is not reliably creating the 'users' table.  The test results show a `sqlite3.OperationalError: no such table: users`. This is likely because the `self._create_table()` call in the `__init__` method might not be executing correctly or the database connection is failing.  Ensure the database connection is established and the table creation command is executed successfully before any other database operations.\"]\n",
            "\n",
            "🔧 Executing subtask: Implement user registration endpoint (POST /users)\n"
          ]
        },
        {
          "output_type": "stream",
          "name": "stderr",
          "text": [
            "/usr/local/lib/python3.11/dist-packages/langchain_google_genai/chat_models.py:424: UserWarning: Convert_system_message_to_human will be deprecated!\n",
            "  warnings.warn(\"Convert_system_message_to_human will be deprecated!\")\n"
          ]
        },
        {
          "output_type": "stream",
          "name": "stdout",
          "text": [
            "🧪 Running tests...\n",
            "🔍 Reviewing failed tests...\n"
          ]
        },
        {
          "output_type": "stream",
          "name": "stderr",
          "text": [
            "/usr/local/lib/python3.11/dist-packages/langchain_google_genai/chat_models.py:424: UserWarning: Convert_system_message_to_human will be deprecated!\n",
            "  warnings.warn(\"Convert_system_message_to_human will be deprecated!\")\n"
          ]
        },
        {
          "output_type": "stream",
          "name": "stdout",
          "text": [
            "📝 Review feedback: The code has a good structure and uses appropriate libraries for security (password hashing). However, it relies on an in-memory database which is unsuitable for production and lacks comprehensive error handling and input validation.\n",
            "❌ Critical issues: ['Uses an in-memory dictionary `users` for storing user data, making it unsuitable for production.  A persistent database (e.g., SQLite, PostgreSQL) is required.', \"Error handling is insufficient. While a generic `except Exception` block catches errors, it doesn't provide specific error handling or logging for different types of exceptions.  More granular exception handling is needed.\", 'Input validation is minimal.  More robust validation is needed for usernames and passwords (e.g., checking for special characters, SQL injection prevention, etc.).', 'The test result indicates a port conflict.  The application should handle this gracefully, perhaps by allowing the port to be specified as a command-line argument or configuration setting.', 'Missing tests.  No unit tests are provided to verify the functionality of the registration endpoint.']\n",
            "\n",
            "🔧 Executing subtask: Implement user login endpoint (POST /login)\n"
          ]
        },
        {
          "output_type": "stream",
          "name": "stderr",
          "text": [
            "/usr/local/lib/python3.11/dist-packages/langchain_google_genai/chat_models.py:424: UserWarning: Convert_system_message_to_human will be deprecated!\n",
            "  warnings.warn(\"Convert_system_message_to_human will be deprecated!\")\n"
          ]
        },
        {
          "output_type": "stream",
          "name": "stdout",
          "text": [
            "🧪 Running tests...\n",
            "🔍 Reviewing failed tests...\n"
          ]
        },
        {
          "output_type": "stream",
          "name": "stderr",
          "text": [
            "/usr/local/lib/python3.11/dist-packages/langchain_google_genai/chat_models.py:424: UserWarning: Convert_system_message_to_human will be deprecated!\n",
            "  warnings.warn(\"Convert_system_message_to_human will be deprecated!\")\n"
          ]
        },
        {
          "output_type": "stream",
          "name": "stdout",
          "text": [
            "📝 Review feedback: The code is functional but has security and scalability issues.\n",
            "❌ Critical issues: ['The in-memory `users` dictionary is insecure and not scalable.  User credentials should be stored in a database with appropriate security measures (salting, hashing, etc.).', 'The placeholder token is extremely insecure.  A robust authentication mechanism like JWTs should be implemented.', 'The broad `except Exception` clause is bad practice.  Specific exceptions should be caught and handled appropriately.  Unexpected errors should be logged with sufficient detail for debugging.', 'The `debug=True` setting should be removed from production deployments.  It exposes sensitive information and creates security vulnerabilities.', \"Error handling could be improved by providing more specific error messages to the client.  Generic error messages like 'Invalid username or password' don't help the user.\", 'The application lacks input validation for password strength.  Passwords should meet minimum length and complexity requirements.', 'The `/register` endpoint is missing input validation for username format and password strength.']\n",
            "\n",
            "🔧 Executing subtask: Implement user profile retrieval endpoint (GET /users/{id})\n"
          ]
        },
        {
          "output_type": "stream",
          "name": "stderr",
          "text": [
            "/usr/local/lib/python3.11/dist-packages/langchain_google_genai/chat_models.py:424: UserWarning: Convert_system_message_to_human will be deprecated!\n",
            "  warnings.warn(\"Convert_system_message_to_human will be deprecated!\")\n"
          ]
        },
        {
          "output_type": "stream",
          "name": "stdout",
          "text": [
            "🧪 Running tests...\n",
            "🔍 Reviewing failed tests...\n"
          ]
        },
        {
          "output_type": "stream",
          "name": "stderr",
          "text": [
            "/usr/local/lib/python3.11/dist-packages/langchain_google_genai/chat_models.py:424: UserWarning: Convert_system_message_to_human will be deprecated!\n",
            "  warnings.warn(\"Convert_system_message_to_human will be deprecated!\")\n"
          ]
        },
        {
          "output_type": "stream",
          "name": "stdout",
          "text": [
            "📝 Review feedback: The code is well-structured and mostly correct, but has a minor redundancy and a critical deployment issue.\n",
            "❌ Critical issues: [\"The type validation for `user_id` inside the `get_user` function is redundant because Flask's route definition (`/users/<int:user_id>`) already handles type checking and conversion.  Remove the `if not isinstance(user_id, int):` block.\", 'The test result indicates a port conflict. The application should be configured to use a different port or handle port conflicts gracefully, perhaps by checking for availability before binding to the port.  The `debug=True` setting should also be removed from production deployments.']\n",
            "\n",
            "🔧 Executing subtask: Implement user update endpoint (PUT /users/{id})\n"
          ]
        },
        {
          "output_type": "stream",
          "name": "stderr",
          "text": [
            "/usr/local/lib/python3.11/dist-packages/langchain_google_genai/chat_models.py:424: UserWarning: Convert_system_message_to_human will be deprecated!\n",
            "  warnings.warn(\"Convert_system_message_to_human will be deprecated!\")\n"
          ]
        },
        {
          "output_type": "stream",
          "name": "stdout",
          "text": [
            "🧪 Running tests...\n",
            "🔍 Reviewing failed tests...\n"
          ]
        },
        {
          "output_type": "stream",
          "name": "stderr",
          "text": [
            "/usr/local/lib/python3.11/dist-packages/langchain_google_genai/chat_models.py:424: UserWarning: Convert_system_message_to_human will be deprecated!\n",
            "  warnings.warn(\"Convert_system_message_to_human will be deprecated!\")\n"
          ]
        },
        {
          "output_type": "stream",
          "name": "stdout",
          "text": [
            "📝 Review feedback: The code has a good structure and includes important security considerations like password hashing and input validation. However, there are critical issues that prevent it from running and need to be addressed.\n",
            "❌ Critical issues: [\"The code fails to run due to a missing dependency ('flask_httpauth').  The test environment needs to be set up correctly by installing the required package using `pip install flask-httpauth`.\", \"The use of a hardcoded secret key ('app.config['SECRET_KEY'] = 'thisissecret'') is a major security risk.  In a production environment, a strong, randomly generated key must be used.  Consider using environment variables to store sensitive information.\", \"The in-memory storage of users ('users' dictionary) is not suitable for production. A persistent database should be used to store user data.\", 'Error handling could be improved. While the code handles `json.JSONDecodeError`, a more generic `Exception` catch-all is too broad and could mask other important errors.  More specific exception handling should be implemented.', 'The username uniqueness is not enforced.  The application should prevent the creation of users with duplicate usernames.']\n",
            "\n",
            "🔧 Executing subtask: Implement user deletion endpoint (DELETE /users/{id})\n"
          ]
        },
        {
          "output_type": "stream",
          "name": "stderr",
          "text": [
            "/usr/local/lib/python3.11/dist-packages/langchain_google_genai/chat_models.py:424: UserWarning: Convert_system_message_to_human will be deprecated!\n",
            "  warnings.warn(\"Convert_system_message_to_human will be deprecated!\")\n"
          ]
        },
        {
          "output_type": "stream",
          "name": "stdout",
          "text": [
            "🧪 Running tests...\n",
            "🔍 Reviewing failed tests...\n"
          ]
        },
        {
          "output_type": "stream",
          "name": "stderr",
          "text": [
            "/usr/local/lib/python3.11/dist-packages/langchain_google_genai/chat_models.py:424: UserWarning: Convert_system_message_to_human will be deprecated!\n",
            "  warnings.warn(\"Convert_system_message_to_human will be deprecated!\")\n"
          ]
        },
        {
          "output_type": "stream",
          "name": "stdout",
          "text": [
            "📝 Review feedback: The code has a critical dependency issue and a potential security vulnerability.  The in-memory database is unsuitable for production.\n",
            "❌ Critical issues: [\"The code fails to run due to a missing dependency ('flask_httpauth').  The test environment needs to be properly configured to include this library.\", 'The use of an in-memory SQLite database is inappropriate for production.  A persistent database solution (e.g., PostgreSQL, MySQL) must be implemented.', \"The sample user ('admin'/'admin') should be removed from production code.  A secure user creation and management system is required.\", 'The code uses a global `users` dictionary which is redundant given the database. This should be removed.', 'Error handling is good, but the exception messages revealed to the client might leak sensitive information in a production environment. Consider logging the error details instead of returning them directly to the client.']\n",
            "\n",
            "🔧 Executing subtask: Implement authentication and authorization mechanisms (e.g., JWT, OAuth 2.0)\n"
          ]
        },
        {
          "output_type": "stream",
          "name": "stderr",
          "text": [
            "/usr/local/lib/python3.11/dist-packages/langchain_google_genai/chat_models.py:424: UserWarning: Convert_system_message_to_human will be deprecated!\n",
            "  warnings.warn(\"Convert_system_message_to_human will be deprecated!\")\n"
          ]
        },
        {
          "output_type": "stream",
          "name": "stdout",
          "text": [
            "🧪 Running tests...\n",
            "🔍 Reviewing failed tests...\n"
          ]
        },
        {
          "output_type": "stream",
          "name": "stderr",
          "text": [
            "/usr/local/lib/python3.11/dist-packages/langchain_google_genai/chat_models.py:424: UserWarning: Convert_system_message_to_human will be deprecated!\n",
            "  warnings.warn(\"Convert_system_message_to_human will be deprecated!\")\n"
          ]
        },
        {
          "output_type": "stream",
          "name": "stdout",
          "text": [
            "📝 Review feedback: ```json\n",
            "{\n",
            "  \"feedback\": \"The code has several critical security and design flaws that need to be addressed before deployment.  The use of hardcoded secrets and an in-memory database is unacceptable for production.\",\n",
            "  \"critical_issues\": [\n",
            "    \"**Hardcoded Secrets:** JWT_SECRET_KEY, CLIENT_ID, and CLIENT_SECRET are hardcoded.  This is a major security vulnerability.  These values must be stored securely, ideally using environment variables.\",\n",
            "    \"**In-Memory Database:** The `users` dictionary is an in-memory database. This is not suitable for production; a persistent database (e.g., PostgreSQL, MySQL, MongoDB) is required.\",\n",
            "    \"**Password Storage:** Passwords are stored in plain text. This is extremely insecure.  Passwords must be securely hashed using a strong, one-way hashing algorithm (e.g., bcrypt, Argon2) before storage.\",\n",
            "    \"**Error Handling:** While the code handles some JWT exceptions, more robust error handling is needed throughout the application.  Consider using a more structured approach to error handling (e.g., custom exceptions).\",\n",
            "    \"**Missing Input Validation:** The code lacks input validation.  Before using any user-provided data, it should be validated to prevent injection attacks (e.g., SQL injection, cross-site scripting).\",\n",
            "    \"**JWT Payload:** The JWT payload includes the username.  While not inherently a security flaw, it's best practice to avoid including sensitive information directly in the JWT payload.  Consider using a user ID instead.\",\n",
            "    \"**Code Duplication:** The `/protected` and `/admin` routes have significant code duplication. This should be refactored to improve maintainability.\",\n",
            "    \"**Bearer Token Handling:** The `token = token.split(\" \")[1] if token.startswith(\"Bearer \") else token` line is a fragile way to handle the Bearer token format. A more robust solution should be implemented to handle potential errors or variations in the token format.\"\n",
            "  ]\n",
            "}\n",
            "```\n",
            "\n",
            "🔧 Executing subtask: Implement input validation and sanitization to prevent security vulnerabilities\n"
          ]
        },
        {
          "output_type": "stream",
          "name": "stderr",
          "text": [
            "/usr/local/lib/python3.11/dist-packages/langchain_google_genai/chat_models.py:424: UserWarning: Convert_system_message_to_human will be deprecated!\n",
            "  warnings.warn(\"Convert_system_message_to_human will be deprecated!\")\n"
          ]
        },
        {
          "output_type": "stream",
          "name": "stdout",
          "text": [
            "🧪 Running tests...\n",
            "\n",
            "🔧 Executing subtask: Implement error handling and logging\n"
          ]
        },
        {
          "output_type": "stream",
          "name": "stderr",
          "text": [
            "/usr/local/lib/python3.11/dist-packages/langchain_google_genai/chat_models.py:424: UserWarning: Convert_system_message_to_human will be deprecated!\n",
            "  warnings.warn(\"Convert_system_message_to_human will be deprecated!\")\n"
          ]
        },
        {
          "output_type": "stream",
          "name": "stdout",
          "text": [
            "🧪 Running tests...\n",
            "\n",
            "🔧 Executing subtask: Write unit and integration tests\n"
          ]
        },
        {
          "output_type": "stream",
          "name": "stderr",
          "text": [
            "/usr/local/lib/python3.11/dist-packages/langchain_google_genai/chat_models.py:424: UserWarning: Convert_system_message_to_human will be deprecated!\n",
            "  warnings.warn(\"Convert_system_message_to_human will be deprecated!\")\n"
          ]
        },
        {
          "output_type": "stream",
          "name": "stdout",
          "text": [
            "🧪 Running tests...\n",
            "\n",
            "🔧 Executing subtask: Deploy the API to a staging environment\n"
          ]
        },
        {
          "output_type": "stream",
          "name": "stderr",
          "text": [
            "/usr/local/lib/python3.11/dist-packages/langchain_google_genai/chat_models.py:424: UserWarning: Convert_system_message_to_human will be deprecated!\n",
            "  warnings.warn(\"Convert_system_message_to_human will be deprecated!\")\n"
          ]
        },
        {
          "output_type": "stream",
          "name": "stdout",
          "text": [
            "🧪 Running tests...\n",
            "\n",
            "🔧 Executing subtask: Perform staging testing and bug fixing\n"
          ]
        },
        {
          "output_type": "stream",
          "name": "stderr",
          "text": [
            "/usr/local/lib/python3.11/dist-packages/langchain_google_genai/chat_models.py:424: UserWarning: Convert_system_message_to_human will be deprecated!\n",
            "  warnings.warn(\"Convert_system_message_to_human will be deprecated!\")\n"
          ]
        },
        {
          "output_type": "stream",
          "name": "stdout",
          "text": [
            "🧪 Running tests...\n",
            "\n",
            "🔧 Executing subtask: Deploy the API to production\n"
          ]
        },
        {
          "output_type": "stream",
          "name": "stderr",
          "text": [
            "/usr/local/lib/python3.11/dist-packages/langchain_google_genai/chat_models.py:424: UserWarning: Convert_system_message_to_human will be deprecated!\n",
            "  warnings.warn(\"Convert_system_message_to_human will be deprecated!\")\n"
          ]
        },
        {
          "output_type": "stream",
          "name": "stdout",
          "text": [
            "🧪 Running tests...\n",
            "\n",
            "🔧 Executing subtask: Implement monitoring and logging for production\n"
          ]
        },
        {
          "output_type": "stream",
          "name": "stderr",
          "text": [
            "/usr/local/lib/python3.11/dist-packages/langchain_google_genai/chat_models.py:424: UserWarning: Convert_system_message_to_human will be deprecated!\n",
            "  warnings.warn(\"Convert_system_message_to_human will be deprecated!\")\n"
          ]
        },
        {
          "output_type": "stream",
          "name": "stdout",
          "text": [
            "🧪 Running tests...\n",
            "\n",
            "✅ Project execution completed.\n"
          ]
        }
      ],
      "source": [
        "from langchain.agents import Tool\n",
        "from langchain_google_genai import ChatGoogleGenerativeAI\n",
        "from langchain_core.messages import SystemMessage, HumanMessage\n",
        "import os\n",
        "import json\n",
        "import getpass\n",
        "import tempfile\n",
        "import subprocess\n",
        "import re\n",
        "\n",
        "# Set up Gemini API key\n",
        "if not os.environ.get(\"GOOGLE_API_KEY\"):\n",
        "    try:\n",
        "        from google.colab import userdata\n",
        "        os.environ[\"GOOGLE_API_KEY\"] = userdata.get('GEMINI_API_KEY')  # Update secret name\n",
        "    except:\n",
        "        import getpass\n",
        "        os.environ[\"GOOGLE_API_KEY\"] = getpass.getpass(\"Enter Google API Key: \")\n",
        "\n",
        "class PlannerAgent:\n",
        "    def __init__(self):\n",
        "        # Initialize Gemini model\n",
        "        self.llm = ChatGoogleGenerativeAI(\n",
        "            model=\"gemini-1.5-flash-latest\",\n",
        "            temperature=0.3,\n",
        "            convert_system_message_to_human=True\n",
        "        )\n",
        "\n",
        "        self.system_prompt = \"\"\"\n",
        "        As an expert solution architect, decompose complex problems into executable sub-tasks.\n",
        "        Use this JSON structure:\n",
        "        {\n",
        "            \"subtasks\": [\n",
        "                {\n",
        "                    \"id\": <unique integer>,\n",
        "                    \"desc\": \"<clear description>\",\n",
        "                    \"dependencies\": [<list of prerequisite task IDs>]\n",
        "                }\n",
        "            ]\n",
        "        }\n",
        "        \"\"\"\n",
        "\n",
        "    def decompose(self, task):\n",
        "        try:\n",
        "            # Create message sequence\n",
        "            messages = [\n",
        "                SystemMessage(content=self.system_prompt),\n",
        "                HumanMessage(content=f\"TASK: {task}\")\n",
        "            ]\n",
        "\n",
        "            # Get structured JSON response\n",
        "            llm_response = self.llm.invoke(messages)\n",
        "\n",
        "            # Extract JSON content\n",
        "            response_content = llm_response.content\n",
        "\n",
        "            # Handle potential formatting variations\n",
        "            if '```json' in response_content:\n",
        "                json_match = re.search(r'```json(.*?)```', response_content, re.DOTALL)\n",
        "                if json_match:\n",
        "                    response_content = json_match.group(1).strip()\n",
        "\n",
        "            # Parse and validate response\n",
        "            plan = json.loads(response_content)\n",
        "\n",
        "            # Validate structure\n",
        "            if \"subtasks\" not in plan or not isinstance(plan[\"subtasks\"], list):\n",
        "                raise ValueError(\"Invalid response format: Missing 'subtasks' list\")\n",
        "\n",
        "            for subtask in plan[\"subtasks\"]:\n",
        "                if \"id\" not in subtask or \"desc\" not in subtask:\n",
        "                    raise ValueError(\"Subtask missing required fields: 'id' or 'desc'\")\n",
        "\n",
        "            return plan\n",
        "\n",
        "        except json.JSONDecodeError:\n",
        "            print(\"Failed to parse JSON response. Attempting recovery...\")\n",
        "            try:\n",
        "                # Fallback: Extract JSON from text\n",
        "                json_match = re.search(r'\\{.*\\}', response_content, re.DOTALL)\n",
        "                if json_match:\n",
        "                    return json.loads(json_match.group())\n",
        "                raise\n",
        "            except:\n",
        "                print(\"Could not recover valid JSON. Using fallback plan.\")\n",
        "                return self._fallback_plan(task)\n",
        "\n",
        "        except Exception as e:\n",
        "            print(f\"Decomposition error: {str(e)}\")\n",
        "            return self._fallback_plan(task)\n",
        "\n",
        "    def _fallback_plan(self, task):\n",
        "        \"\"\"Fallback plan for error recovery\"\"\"\n",
        "        return {\n",
        "            \"subtasks\": [\n",
        "                {\n",
        "                    \"id\": 1,\n",
        "                    \"desc\": f\"Analyze requirements: {task}\",\n",
        "                    \"dependencies\": []\n",
        "                },\n",
        "                {\n",
        "                    \"id\": 2,\n",
        "                    \"desc\": f\"Design solution architecture for {task}\",\n",
        "                    \"dependencies\": [1]\n",
        "                },\n",
        "                {\n",
        "                    \"id\": 3,\n",
        "                    \"desc\": f\"Implement core functionality for {task}\",\n",
        "                    \"dependencies\": [2]\n",
        "                },\n",
        "                {\n",
        "                    \"id\": 4,\n",
        "                    \"desc\": f\"Test and validate solution for {task}\",\n",
        "                    \"dependencies\": [3]\n",
        "                }\n",
        "            ]\n",
        "        }\n",
        "\n",
        "class ExecutorAgent:\n",
        "    def __init__(self):\n",
        "        # Initialize Gemini model\n",
        "        self.llm = ChatGoogleGenerativeAI(\n",
        "            model=\"gemini-1.5-flash-latest\",\n",
        "            temperature=0.2,\n",
        "            convert_system_message_to_human=True\n",
        "        )\n",
        "        self.tools = [\n",
        "            Tool(\n",
        "                name=\"CodeWriter\",\n",
        "                func=self.write_code,\n",
        "                description=\"Generates code for given requirements\"\n",
        "            ),\n",
        "            Tool(\n",
        "                name=\"TestRunner\",\n",
        "                func=self.run_tests,\n",
        "                description=\"Executes test cases and reports results\"\n",
        "            )\n",
        "        ]\n",
        "\n",
        "    def write_code(self, requirements: str) -> dict:\n",
        "        \"\"\"\n",
        "        Uses the LLM to generate Python code for the given requirements.\n",
        "        Returns a dict with 'code' (the Python source) and 'files' (list of filenames).\n",
        "        \"\"\"\n",
        "        prompt = (\n",
        "            f\"You are an expert Python developer. \"\n",
        "            f\"Write complete, self-contained Python code to {requirements}. \"\n",
        "            f\"Return only the code block, wrapped in triple backticks for Python.\"\n",
        "        )\n",
        "        llm_response = self.llm.invoke(prompt).content\n",
        "\n",
        "        # Extract code from triple backticks\n",
        "        match = re.search(r\"```(?:python)?\\n([\\s\\S]*?)```\", llm_response)\n",
        "        code = match.group(1) if match else llm_response\n",
        "\n",
        "        # Save code to a temp file\n",
        "        tmp_dir = tempfile.mkdtemp()\n",
        "        file_path = os.path.join(tmp_dir, \"main.py\")\n",
        "        with open(file_path, \"w\") as f:\n",
        "            f.write(code)\n",
        "\n",
        "        return {\"code\": code, \"files\": [file_path]}\n",
        "\n",
        "    def run_tests(self, code_info: dict) -> dict:\n",
        "        \"\"\"\n",
        "        Executes the generated Python file in a sandboxed subprocess.\n",
        "        Captures pass/fail status and any stderr output.\n",
        "        \"\"\"\n",
        "        files = code_info.get(\"files\", [])\n",
        "        if not files:\n",
        "            return {\"passed\": False, \"errors\": [\"No file to execute.\"]}\n",
        "\n",
        "        file_to_run = files[0]\n",
        "\n",
        "        # Run the Python file\n",
        "        try:\n",
        "            result = subprocess.run(\n",
        "                [\"python\", file_to_run],\n",
        "                capture_output=True,\n",
        "                text=True,\n",
        "                timeout=10\n",
        "            )\n",
        "            if result.returncode == 0:\n",
        "                return {\"passed\": True, \"errors\": []}\n",
        "            else:\n",
        "                return {\"passed\": False, \"errors\": [result.stderr.strip()]}\n",
        "        except Exception as e:\n",
        "            return {\"passed\": False, \"errors\": [str(e)]}\n",
        "\n",
        "class ReviewerAgent:\n",
        "    def __init__(self):\n",
        "        # Initialize Gemini model\n",
        "        self.llm = ChatGoogleGenerativeAI(\n",
        "            model=\"gemini-1.5-flash-latest\",\n",
        "            temperature=0.2,\n",
        "            convert_system_message_to_human=True\n",
        "        )\n",
        "\n",
        "    def analyze(self, code_result: dict, test_result: dict) -> dict:\n",
        "        \"\"\"\n",
        "        Analyze the generated code and test results, providing feedback and critical issues.\n",
        "        Returns a dict with:\n",
        "          - 'feedback': A summary string of overall quality\n",
        "          - 'critical_issues': A list of any issues that must be addressed\n",
        "        \"\"\"\n",
        "\n",
        "        code = code_result.get(\"code\", \"\")\n",
        "        tests = test_result.get(\"errors\", []) or []\n",
        "        tests_output = \"\\n\".join(tests) if tests else \"All tests passed.\"\n",
        "\n",
        "        # Construct LLM prompt requesting JSON output\n",
        "        prompt = (\n",
        "            \"You are a senior software engineer and code reviewer. \"\n",
        "            \"Review the following Python code snippet and its test results. \"\n",
        "            \"Provide a JSON object with two keys:\\n\"\n",
        "            \" - feedback: A concise summary of overall code quality.\\n\"\n",
        "            \" - critical_issues: A list of strings describing any bugs, logical errors, \"\n",
        "            \"or style issues that should be fixed.\\n\\n\"\n",
        "            f\"Code:\\n```python\\n{code}\\n```\\n\\n\"\n",
        "            f\"Test Results:\\n{tests_output}\\n\\n\"\n",
        "            \"Output JSON only.\"\n",
        "        )\n",
        "\n",
        "        llm_response = self.llm.invoke(prompt).content\n",
        "\n",
        "        # Extract JSON from LLM response\n",
        "        try:\n",
        "            # Sometimes the model wraps JSON in code fences\n",
        "            json_str = re.search(r\"\\{[\\s\\S]*\\}\", llm_response).group(0)\n",
        "            result = json.loads(json_str)\n",
        "            # Ensure keys exist\n",
        "            feedback = result.get(\"feedback\", \"\")\n",
        "            critical_issues = result.get(\"critical_issues\", [])\n",
        "        except Exception:\n",
        "            # Fallback: return the raw response as feedback\n",
        "            feedback = llm_response.strip()\n",
        "            critical_issues = []\n",
        "\n",
        "        return {\n",
        "            \"feedback\": feedback,\n",
        "            \"critical_issues\": critical_issues\n",
        "        }\n",
        "\n",
        "class Orchestrator:\n",
        "    def __init__(self):\n",
        "        self.planner = PlannerAgent()\n",
        "        self.executor = ExecutorAgent()\n",
        "        self.reviewer = ReviewerAgent()\n",
        "\n",
        "    def compile_final_output(self):\n",
        "        return \"Project execution completed.\"\n",
        "\n",
        "    def execute_project(self, user_request):\n",
        "        # Agent collaboration workflow\n",
        "        plan = self.planner.decompose(user_request)\n",
        "\n",
        "        # Check if the plan is valid before proceeding\n",
        "        if not plan or \"subtasks\" not in plan or not isinstance(plan[\"subtasks\"], list):\n",
        "            print(\"Planner returned an invalid plan.\")\n",
        "            return \"Project execution failed: Invalid plan.\"\n",
        "\n",
        "        for subtask in plan[\"subtasks\"]:\n",
        "            # Add checks for subtask format if necessary\n",
        "            if not isinstance(subtask, dict) or \"desc\" not in subtask:\n",
        "                print(f\"Skipping invalid subtask: {subtask}\")\n",
        "                continue\n",
        "\n",
        "            print(f\"\\n🔧 Executing subtask: {subtask['desc']}\")\n",
        "            code_result = self.executor.write_code(subtask[\"desc\"])\n",
        "\n",
        "            # Check if code_result is valid before proceeding\n",
        "            if not code_result or \"code\" not in code_result:\n",
        "                print(f\"Executor failed to generate code for subtask: {subtask['desc']}\")\n",
        "                continue\n",
        "\n",
        "            print(\"🧪 Running tests...\")\n",
        "            test_result = self.executor.run_tests(code_result)\n",
        "\n",
        "            # Check if test_result is valid\n",
        "            if not test_result or \"passed\" not in test_result:\n",
        "                print(f\"Executor failed to run tests for subtask: {subtask['desc']}\")\n",
        "                continue\n",
        "\n",
        "            if not test_result[\"passed\"]:\n",
        "                print(\"🔍 Reviewing failed tests...\")\n",
        "                review = self.reviewer.analyze(code_result, test_result)\n",
        "                print(f\"📝 Review feedback: {review.get('feedback', 'No feedback')}\")\n",
        "                if review.get(\"critical_issues\"):\n",
        "                    print(f\"❌ Critical issues: {review['critical_issues']}\")\n",
        "\n",
        "        return self.compile_final_output()\n",
        "\n",
        "# Usage\n",
        "if __name__ == \"__main__\":\n",
        "    system = Orchestrator()\n",
        "    response = system.execute_project(\"Build a REST API for user management\")\n",
        "    print(f\"\\n✅ {response}\")"
      ]
    }
  ]
}